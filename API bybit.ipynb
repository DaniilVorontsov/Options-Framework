{
 "cells": [
  {
   "cell_type": "code",
   "execution_count": 111,
   "id": "411fdfc5",
   "metadata": {},
   "outputs": [],
   "source": [
    "# Import libraries\n",
    "import datetime as dt\n",
    "import json\n",
    "import requests as rq\n",
    "#import bs4 as bs\n",
    "#from selenium import webdriver\n",
    "import pandas as pd\n",
    "import numpy as np\n",
    "import pybit as pbt\n",
    "from pybit import usdc_options\n",
    "import warnings\n",
    "from pandas.core.common import SettingWithCopyWarning\n",
    "\n",
    "warnings.simplefilter(action=\"ignore\", category=SettingWithCopyWarning)"
   ]
  },
  {
   "cell_type": "markdown",
   "id": "3e6286ef",
   "metadata": {},
   "source": [
    "Достаю для начала все доступные на данный момент даты исполнения и страйки:"
   ]
  },
  {
   "cell_type": "code",
   "execution_count": 112,
   "id": "65c96ce0",
   "metadata": {},
   "outputs": [],
   "source": [
    "key_symbols='https://api-testnet.bybit.com/option/usdc/openapi/public/v1/symbols'\n",
    "data=rq.get(key_symbols).json()\n",
    "dataList=[] #достаю словари с необходимым полем symbol\n",
    "for i in data['result']['dataList']:\n",
    "                dataList.append(i)           "
   ]
  },
  {
   "cell_type": "code",
   "execution_count": 113,
   "id": "a23222b1",
   "metadata": {},
   "outputs": [],
   "source": [
    "symbols=[]\n",
    "for j in dataList:\n",
    "    symbols.append(j['symbol'])"
   ]
  },
  {
   "cell_type": "markdown",
   "id": "1804ca45",
   "metadata": {},
   "source": [
    "Достаю названия доступных на данный момент опционов:"
   ]
  },
  {
   "cell_type": "markdown",
   "id": "98d8f94d",
   "metadata": {},
   "source": [
    "Новый код (через pybit)"
   ]
  },
  {
   "cell_type": "code",
   "execution_count": 114,
   "id": "9f821c00",
   "metadata": {},
   "outputs": [],
   "source": [
    "session = usdc_options.HTTP(\n",
    "    endpoint='https://api.bybit.com', \n",
    "    api_key='...',\n",
    "    api_secret='...'\n",
    ")"
   ]
  },
  {
   "cell_type": "code",
   "execution_count": 115,
   "id": "0e8109b2",
   "metadata": {
    "scrolled": true
   },
   "outputs": [
    {
     "name": "stdout",
     "output_type": "stream",
     "text": [
      "Processing time: 134.17207407951355\n"
     ]
    }
   ],
   "source": [
    "t1=dt.datetime.now().timestamp()\n",
    "df=[]\n",
    "for k in symbols:\n",
    "    df.append(session.latest_information_for_symbol(symbol=k)['result'])\n",
    "t2 = dt.datetime.now().timestamp()\n",
    "\n",
    "print('Processing time:', t2 - t1) #100-200 секунд (зависит от интернета)"
   ]
  },
  {
   "cell_type": "code",
   "execution_count": 116,
   "id": "fecbd9e9",
   "metadata": {},
   "outputs": [],
   "source": [
    "df1=pd.json_normalize(df) #привожу к формату dataframe\n",
    "#Удаляю строки с пустыми значениями:\n",
    "df1.replace('',np.nan,inplace=True)\n",
    "df1.dropna(subset='symbol', inplace=True)"
   ]
  },
  {
   "cell_type": "code",
   "execution_count": 117,
   "id": "0cce1df3",
   "metadata": {},
   "outputs": [
    {
     "data": {
      "text/html": [
       "<div>\n",
       "<style scoped>\n",
       "    .dataframe tbody tr th:only-of-type {\n",
       "        vertical-align: middle;\n",
       "    }\n",
       "\n",
       "    .dataframe tbody tr th {\n",
       "        vertical-align: top;\n",
       "    }\n",
       "\n",
       "    .dataframe thead th {\n",
       "        text-align: right;\n",
       "    }\n",
       "</style>\n",
       "<table border=\"1\" class=\"dataframe\">\n",
       "  <thead>\n",
       "    <tr style=\"text-align: right;\">\n",
       "      <th></th>\n",
       "      <th>bid</th>\n",
       "      <th>ask</th>\n",
       "      <th>markPrice</th>\n",
       "      <th>markPriceIv</th>\n",
       "      <th>asset</th>\n",
       "      <th>contract_date</th>\n",
       "      <th>option_type</th>\n",
       "    </tr>\n",
       "    <tr>\n",
       "      <th>strike</th>\n",
       "      <th></th>\n",
       "      <th></th>\n",
       "      <th></th>\n",
       "      <th></th>\n",
       "      <th></th>\n",
       "      <th></th>\n",
       "      <th></th>\n",
       "    </tr>\n",
       "  </thead>\n",
       "  <tbody>\n",
       "    <tr>\n",
       "      <th>300000</th>\n",
       "      <td>0</td>\n",
       "      <td>20</td>\n",
       "      <td>0.16188168</td>\n",
       "      <td>1.1429</td>\n",
       "      <td>BTC</td>\n",
       "      <td>30DEC22</td>\n",
       "      <td>C</td>\n",
       "    </tr>\n",
       "    <tr>\n",
       "      <th>300000</th>\n",
       "      <td>5</td>\n",
       "      <td>0</td>\n",
       "      <td>277706.74179359</td>\n",
       "      <td>1.1429</td>\n",
       "      <td>BTC</td>\n",
       "      <td>30DEC22</td>\n",
       "      <td>P</td>\n",
       "    </tr>\n",
       "    <tr>\n",
       "      <th>250000</th>\n",
       "      <td>0</td>\n",
       "      <td>15</td>\n",
       "      <td>0.3249008</td>\n",
       "      <td>1.1109</td>\n",
       "      <td>BTC</td>\n",
       "      <td>30DEC22</td>\n",
       "      <td>C</td>\n",
       "    </tr>\n",
       "    <tr>\n",
       "      <th>250000</th>\n",
       "      <td>227600</td>\n",
       "      <td>240030</td>\n",
       "      <td>227706.9049008</td>\n",
       "      <td>1.1109</td>\n",
       "      <td>BTC</td>\n",
       "      <td>30DEC22</td>\n",
       "      <td>P</td>\n",
       "    </tr>\n",
       "    <tr>\n",
       "      <th>200000</th>\n",
       "      <td>5</td>\n",
       "      <td>15</td>\n",
       "      <td>0.75439071</td>\n",
       "      <td>1.0697</td>\n",
       "      <td>BTC</td>\n",
       "      <td>30DEC22</td>\n",
       "      <td>C</td>\n",
       "    </tr>\n",
       "    <tr>\n",
       "      <th>...</th>\n",
       "      <td>...</td>\n",
       "      <td>...</td>\n",
       "      <td>...</td>\n",
       "      <td>...</td>\n",
       "      <td>...</td>\n",
       "      <td>...</td>\n",
       "      <td>...</td>\n",
       "    </tr>\n",
       "    <tr>\n",
       "      <th>19000</th>\n",
       "      <td>0</td>\n",
       "      <td>20</td>\n",
       "      <td>0.27075847</td>\n",
       "      <td>1.2549</td>\n",
       "      <td>BTC</td>\n",
       "      <td>13SEP22</td>\n",
       "      <td>P</td>\n",
       "    </tr>\n",
       "    <tr>\n",
       "      <th>18000</th>\n",
       "      <td>0</td>\n",
       "      <td>0</td>\n",
       "      <td>4233.93803449</td>\n",
       "      <td>1.488</td>\n",
       "      <td>BTC</td>\n",
       "      <td>13SEP22</td>\n",
       "      <td>C</td>\n",
       "    </tr>\n",
       "    <tr>\n",
       "      <th>18000</th>\n",
       "      <td>0</td>\n",
       "      <td>20</td>\n",
       "      <td>0.06413449</td>\n",
       "      <td>1.488</td>\n",
       "      <td>BTC</td>\n",
       "      <td>13SEP22</td>\n",
       "      <td>P</td>\n",
       "    </tr>\n",
       "    <tr>\n",
       "      <th>17000</th>\n",
       "      <td>0</td>\n",
       "      <td>0</td>\n",
       "      <td>5233.8945301</td>\n",
       "      <td>1.74</td>\n",
       "      <td>BTC</td>\n",
       "      <td>13SEP22</td>\n",
       "      <td>C</td>\n",
       "    </tr>\n",
       "    <tr>\n",
       "      <th>17000</th>\n",
       "      <td>0</td>\n",
       "      <td>20</td>\n",
       "      <td>0.01726427</td>\n",
       "      <td>1.7226</td>\n",
       "      <td>BTC</td>\n",
       "      <td>13SEP22</td>\n",
       "      <td>P</td>\n",
       "    </tr>\n",
       "  </tbody>\n",
       "</table>\n",
       "<p>402 rows × 7 columns</p>\n",
       "</div>"
      ],
      "text/plain": [
       "           bid     ask        markPrice markPriceIv asset contract_date  \\\n",
       "strike                                                                    \n",
       "300000       0      20       0.16188168      1.1429   BTC       30DEC22   \n",
       "300000       5       0  277706.74179359      1.1429   BTC       30DEC22   \n",
       "250000       0      15        0.3249008      1.1109   BTC       30DEC22   \n",
       "250000  227600  240030   227706.9049008      1.1109   BTC       30DEC22   \n",
       "200000       5      15       0.75439071      1.0697   BTC       30DEC22   \n",
       "...        ...     ...              ...         ...   ...           ...   \n",
       "19000        0      20       0.27075847      1.2549   BTC       13SEP22   \n",
       "18000        0       0    4233.93803449       1.488   BTC       13SEP22   \n",
       "18000        0      20       0.06413449       1.488   BTC       13SEP22   \n",
       "17000        0       0     5233.8945301        1.74   BTC       13SEP22   \n",
       "17000        0      20       0.01726427      1.7226   BTC       13SEP22   \n",
       "\n",
       "       option_type  \n",
       "strike              \n",
       "300000           C  \n",
       "300000           P  \n",
       "250000           C  \n",
       "250000           P  \n",
       "200000           C  \n",
       "...            ...  \n",
       "19000            P  \n",
       "18000            C  \n",
       "18000            P  \n",
       "17000            C  \n",
       "17000            P  \n",
       "\n",
       "[402 rows x 7 columns]"
      ]
     },
     "execution_count": 117,
     "metadata": {},
     "output_type": "execute_result"
    }
   ],
   "source": [
    "#оставляю только нужные столбцы:\n",
    "df2=df1[['symbol','bid','ask','markPrice','markPriceIv']]\n",
    "df2[['asset','contract_date','strike','option_type']]=df2['symbol'].str.split('-',expand=True)\n",
    "df2.drop('symbol', axis=1,inplace=True)\n",
    "df2.set_index('strike',inplace=True)\n",
    "df2"
   ]
  },
  {
   "cell_type": "code",
   "execution_count": 120,
   "id": "a201e548",
   "metadata": {
    "scrolled": false
   },
   "outputs": [],
   "source": [
    "#Проверка\n",
    "#df2.loc[(df2['contract_date']=='30DEC22')&(df2.index=='300000')]"
   ]
  },
  {
   "cell_type": "code",
   "execution_count": null,
   "id": "aaf6b8e8",
   "metadata": {},
   "outputs": [],
   "source": []
  },
  {
   "cell_type": "code",
   "execution_count": null,
   "id": "4446f9dd",
   "metadata": {},
   "outputs": [],
   "source": []
  },
  {
   "cell_type": "code",
   "execution_count": null,
   "id": "b5aa1ee6",
   "metadata": {},
   "outputs": [],
   "source": []
  }
 ],
 "metadata": {
  "kernelspec": {
   "display_name": "Python 3 (ipykernel)",
   "language": "python",
   "name": "python3"
  },
  "language_info": {
   "codemirror_mode": {
    "name": "ipython",
    "version": 3
   },
   "file_extension": ".py",
   "mimetype": "text/x-python",
   "name": "python",
   "nbconvert_exporter": "python",
   "pygments_lexer": "ipython3",
   "version": "3.9.12"
  }
 },
 "nbformat": 4,
 "nbformat_minor": 5
}
